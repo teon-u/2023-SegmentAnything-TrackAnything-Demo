{
  "nbformat": 4,
  "nbformat_minor": 0,
  "metadata": {
    "colab": {
      "provenance": [],
      "gpuType": "T4"
    },
    "kernelspec": {
      "name": "python3",
      "display_name": "Python 3"
    },
    "language_info": {
      "name": "python"
    },
    "accelerator": "GPU"
  },
  "cells": [
    {
      "cell_type": "markdown",
      "source": [
        "# Track Anything Demo"
      ],
      "metadata": {
        "id": "GD0TMZ_cO8hA"
      }
    },
    {
      "cell_type": "markdown",
      "source": [
        "## 1. 저장소 복제 : GitHub 에서 Track Anything 레포지토리를 복제"
      ],
      "metadata": {
        "id": "9HzhsLNtSwGj"
      }
    },
    {
      "cell_type": "code",
      "execution_count": 1,
      "metadata": {
        "colab": {
          "base_uri": "https://localhost:8080/"
        },
        "id": "M4TrPIZ3SphP",
        "outputId": "f240286c-877c-433c-ba08-09fd183665fe"
      },
      "outputs": [
        {
          "output_type": "stream",
          "name": "stdout",
          "text": [
            "Cloning into 'Track-Anything'...\n",
            "remote: Enumerating objects: 1185, done.\u001b[K\n",
            "remote: Counting objects: 100% (347/347), done.\u001b[K\n",
            "remote: Compressing objects: 100% (83/83), done.\u001b[K\n",
            "remote: Total 1185 (delta 294), reused 264 (delta 264), pack-reused 838\u001b[K\n",
            "Receiving objects: 100% (1185/1185), 344.19 MiB | 43.59 MiB/s, done.\n",
            "Resolving deltas: 100% (617/617), done.\n",
            "/content/Track-Anything\n"
          ]
        }
      ],
      "source": [
        "!git clone https://github.com/gaomingqi/Track-Anything.git\n",
        "%cd Track-Anything\n"
      ]
    },
    {
      "cell_type": "markdown",
      "source": [
        "## 2. 필요 라이브러리 설치"
      ],
      "metadata": {
        "id": "pkZQaMaVItFV"
      }
    },
    {
      "cell_type": "code",
      "source": [
        "pip install -r requirements.txt"
      ],
      "metadata": {
        "id": "6b1ko_f1S4Wg"
      },
      "execution_count": null,
      "outputs": []
    },
    {
      "cell_type": "markdown",
      "source": [
        "## 3. Gradio 3.48v 설치 (TAM 모델 릴리즈 맞춰서, 최신버전은 호출인자 달라져서 정상작동 안함)"
      ],
      "metadata": {
        "id": "vPgN0ONpV5uM"
      }
    },
    {
      "cell_type": "code",
      "source": [
        "!pip install gradio==3.48"
      ],
      "metadata": {
        "id": "2YHC6VghWAh5"
      },
      "execution_count": null,
      "outputs": []
    },
    {
      "cell_type": "markdown",
      "source": [
        "## 4. 원본 코드에서 설정된 내용 변경\n"
      ],
      "metadata": {
        "id": "Sjb_Myy3OqHG"
      }
    },
    {
      "cell_type": "code",
      "source": [
        "file_path = '/content/Track-Anything/app.py'\n",
        "\n",
        "# 파일 읽기\n",
        "with open(file_path, 'r') as file:\n",
        "    lines = file.readlines()\n",
        "\n",
        "# 'cuda:3'을 'cuda:0'으로 변경\n",
        "lines = [line.replace('cuda:3', 'cuda:0') for line in lines]\n",
        "\n",
        "# 'iface.launch()' 호출에 'share=True' 추가\n",
        "for i, line in enumerate(lines):\n",
        "    if 'iface.launch(' in line and 'share=True' not in line:\n",
        "        lines[i] = line.replace('iface.launch(', 'iface.launch(share=True, ')\n",
        "\n",
        "# 변경된 내용으로 파일 다시 쓰기\n",
        "with open(file_path, 'w') as file:\n",
        "    file.writelines(lines)\n"
      ],
      "metadata": {
        "id": "yBs0FDeJZIKd"
      },
      "execution_count": 17,
      "outputs": []
    },
    {
      "cell_type": "markdown",
      "source": [
        "## 5. 실행 (마지막에 나오는 Gradio URL 로 접속해 데모 실행)"
      ],
      "metadata": {
        "id": "r03lAlCS8JSG"
      }
    },
    {
      "cell_type": "code",
      "source": [
        "!python app.py --device cuda:0"
      ],
      "metadata": {
        "id": "teDMWd0zUgXR"
      },
      "execution_count": null,
      "outputs": []
    },
    {
      "cell_type": "markdown",
      "source": [
        "## 6. Track Anything 코드 변경사항 초기화 (필요 시 사용)"
      ],
      "metadata": {
        "id": "emXx7sE8PZHj"
      }
    },
    {
      "cell_type": "code",
      "source": [
        "%cd /content/Track-Anything\n",
        "!git reset --hard\n",
        "!git pull"
      ],
      "metadata": {
        "colab": {
          "base_uri": "https://localhost:8080/"
        },
        "id": "ZPWLFZKNKWfN",
        "outputId": "373130f3-74db-457b-f462-ab41b619cada"
      },
      "execution_count": 13,
      "outputs": [
        {
          "output_type": "stream",
          "name": "stdout",
          "text": [
            "/content/Track-Anything\n",
            "HEAD is now at e6e1592 Update network.py -- move hyperparameter to cpu -- li\n",
            "Already up to date.\n"
          ]
        }
      ]
    }
  ]
}